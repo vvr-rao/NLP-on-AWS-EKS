{
 "cells": [
  {
   "cell_type": "code",
   "execution_count": null,
   "id": "9a0c2cd9",
   "metadata": {},
   "outputs": [],
   "source": [
    "pip install gensim"
   ]
  },
  {
   "cell_type": "code",
   "execution_count": 4,
   "id": "8ca4aa21",
   "metadata": {},
   "outputs": [
    {
     "name": "stdout",
     "output_type": "stream",
     "text": [
      "Collecting wget\n",
      "  Downloading wget-3.2.zip (10 kB)\n",
      "Building wheels for collected packages: wget\n",
      "  Building wheel for wget (setup.py) ... \u001b[?25ldone\n",
      "\u001b[?25h  Created wheel for wget: filename=wget-3.2-py3-none-any.whl size=9673 sha256=d90cee8736f7191bcc2a37282312f2bde9247f4b9e8cd83b48daea277a31e587\n",
      "  Stored in directory: /home/ec2-user/.cache/pip/wheels/90/1d/93/c863ee832230df5cfc25ca497b3e88e0ee3ea9e44adc46ac62\n",
      "Successfully built wget\n",
      "Installing collected packages: wget\n",
      "Successfully installed wget-3.2\n",
      "\u001b[33mWARNING: You are using pip version 21.2.4; however, version 21.3.1 is available.\n",
      "You should consider upgrading via the '/home/ec2-user/anaconda3/envs/python3/bin/python -m pip install --upgrade pip' command.\u001b[0m\n",
      "Note: you may need to restart the kernel to use updated packages.\n"
     ]
    }
   ],
   "source": [
    "pip install wget"
   ]
  },
  {
   "cell_type": "code",
   "execution_count": 5,
   "id": "fc1877a3",
   "metadata": {},
   "outputs": [],
   "source": [
    "import wget"
   ]
  },
  {
   "cell_type": "code",
   "execution_count": 6,
   "id": "198ec26f",
   "metadata": {},
   "outputs": [],
   "source": [
    "url = 'https://s3.amazonaws.com/dl4j-distribution/GoogleNews-vectors-negative300.bin.gz'\n",
    "filename = wget.download(url)"
   ]
  },
  {
   "cell_type": "code",
   "execution_count": 7,
   "id": "dc19e217",
   "metadata": {},
   "outputs": [],
   "source": [
    "import gzip"
   ]
  },
  {
   "cell_type": "code",
   "execution_count": 8,
   "id": "66344ea3",
   "metadata": {},
   "outputs": [],
   "source": [
    "import gensim"
   ]
  },
  {
   "cell_type": "code",
   "execution_count": 9,
   "id": "03e48e0e",
   "metadata": {},
   "outputs": [],
   "source": [
    "#import gensim.downloader as api\n",
    "\n",
    "#wv = api.load('word2vec-google-news-300')"
   ]
  },
  {
   "cell_type": "code",
   "execution_count": 10,
   "id": "114244a0",
   "metadata": {},
   "outputs": [],
   "source": [
    "from gensim.models import KeyedVectors"
   ]
  },
  {
   "cell_type": "code",
   "execution_count": 11,
   "id": "7d047d2e",
   "metadata": {},
   "outputs": [],
   "source": [
    "word2vec = KeyedVectors.load_word2vec_format('GoogleNews-vectors-negative300.bin.gz', binary=True)"
   ]
  },
  {
   "cell_type": "code",
   "execution_count": 12,
   "id": "df9801ec",
   "metadata": {},
   "outputs": [
    {
     "name": "stderr",
     "output_type": "stream",
     "text": [
      "/home/ec2-user/anaconda3/envs/python3/lib/python3.6/site-packages/ipykernel/__main__.py:1: DeprecationWarning: Call to deprecated `word_vec` (Use get_vector instead).\n",
      "  if __name__ == '__main__':\n"
     ]
    }
   ],
   "source": [
    "#x = word2vec.word_vec(\"test\")"
   ]
  },
  {
   "cell_type": "code",
   "execution_count": 14,
   "id": "624fd381",
   "metadata": {},
   "outputs": [
    {
     "data": {
      "text/plain": [
       "[('queen', 0.7118193507194519),\n",
       " ('monarch', 0.6189674139022827),\n",
       " ('princess', 0.5902431011199951),\n",
       " ('crown_prince', 0.5499460697174072),\n",
       " ('prince', 0.5377321839332581)]"
      ]
     },
     "execution_count": 14,
     "metadata": {},
     "output_type": "execute_result"
    }
   ],
   "source": [
    "word2vec.most_similar( positive=['woman', 'king'], negative=['man'], topn=5)"
   ]
  },
  {
   "cell_type": "code",
   "execution_count": 15,
   "id": "e38a0dca",
   "metadata": {},
   "outputs": [
    {
     "data": {
      "text/plain": [
       "[('headaches', 0.8292463421821594),\n",
       " ('heartburn', 0.5746025443077087),\n",
       " ('indigestion', 0.5650683045387268),\n",
       " ('nightmare', 0.5287497639656067),\n",
       " ('nightmares', 0.5257063508033752),\n",
       " ('Headaches', 0.5097386240959167),\n",
       " ('stomach_ache', 0.4992206394672394),\n",
       " ('problem', 0.49641120433807373),\n",
       " ('palpitations', 0.48661914467811584),\n",
       " ('earache', 0.4859495460987091)]"
      ]
     },
     "execution_count": 15,
     "metadata": {},
     "output_type": "execute_result"
    }
   ],
   "source": [
    "word2vec.most_similar( 'headache')"
   ]
  },
  {
   "cell_type": "code",
   "execution_count": 16,
   "id": "73f0983a",
   "metadata": {},
   "outputs": [
    {
     "data": {
      "text/plain": [
       "'kitchen'"
      ]
     },
     "execution_count": 16,
     "metadata": {},
     "output_type": "execute_result"
    }
   ],
   "source": [
    "word2vec.doesnt_match(\"man woman dog child kitchen\".split())"
   ]
  },
  {
   "cell_type": "code",
   "execution_count": 17,
   "id": "2fdaec12",
   "metadata": {},
   "outputs": [
    {
     "data": {
      "text/plain": [
       "'berlin'"
      ]
     },
     "execution_count": 17,
     "metadata": {},
     "output_type": "execute_result"
    }
   ],
   "source": [
    "word2vec.doesnt_match(\"france england germany berlin\".split())"
   ]
  },
  {
   "cell_type": "code",
   "execution_count": 19,
   "id": "b7f5ac96",
   "metadata": {},
   "outputs": [
    {
     "data": {
      "text/plain": [
       "0.44431025"
      ]
     },
     "execution_count": 19,
     "metadata": {},
     "output_type": "execute_result"
    }
   ],
   "source": [
    "word2vec.similarity('headache', 'migrane')"
   ]
  },
  {
   "cell_type": "code",
   "execution_count": 20,
   "id": "0d075750",
   "metadata": {},
   "outputs": [
    {
     "data": {
      "text/plain": [
       "0.31617963"
      ]
     },
     "execution_count": 20,
     "metadata": {},
     "output_type": "execute_result"
    }
   ],
   "source": [
    "word2vec.similarity('headache', 'fever')"
   ]
  },
  {
   "cell_type": "code",
   "execution_count": 22,
   "id": "45f2295b",
   "metadata": {},
   "outputs": [
    {
     "data": {
      "text/plain": [
       "[('saddening', 0.7273085713386536),\n",
       " ('Sad', 0.6610826849937439),\n",
       " ('saddened', 0.6604382395744324),\n",
       " ('heartbreaking', 0.6573508381843567),\n",
       " ('disheartening', 0.6507317423820496),\n",
       " ('Meny_Friedman', 0.6487058401107788),\n",
       " ('parishioner_Pat_Patello', 0.6475860476493835),\n",
       " ('saddens_me', 0.6407119035720825),\n",
       " ('distressing', 0.6399092674255371),\n",
       " ('reminders_bobbing', 0.6357713341712952)]"
      ]
     },
     "execution_count": 22,
     "metadata": {},
     "output_type": "execute_result"
    }
   ],
   "source": [
    "word2vec.most_similar( 'sad')"
   ]
  },
  {
   "cell_type": "code",
   "execution_count": 23,
   "id": "c815937d",
   "metadata": {},
   "outputs": [
    {
     "data": {
      "text/plain": [
       "0.5354614"
      ]
     },
     "execution_count": 23,
     "metadata": {},
     "output_type": "execute_result"
    }
   ],
   "source": [
    "word2vec.similarity('sad', 'happy')"
   ]
  },
  {
   "cell_type": "code",
   "execution_count": 24,
   "id": "177be893",
   "metadata": {},
   "outputs": [
    {
     "data": {
      "text/plain": [
       "0.3072537"
      ]
     },
     "execution_count": 24,
     "metadata": {},
     "output_type": "execute_result"
    }
   ],
   "source": [
    "word2vec.similarity('fat', 'thin')"
   ]
  },
  {
   "cell_type": "code",
   "execution_count": 25,
   "id": "a38b87c4",
   "metadata": {},
   "outputs": [
    {
     "data": {
      "text/plain": [
       "0.6128038"
      ]
     },
     "execution_count": 25,
     "metadata": {},
     "output_type": "execute_result"
    }
   ],
   "source": [
    "word2vec.similarity('unhappy', 'happy')"
   ]
  },
  {
   "cell_type": "code",
   "execution_count": null,
   "id": "fd34b491",
   "metadata": {},
   "outputs": [],
   "source": []
  }
 ],
 "metadata": {
  "kernelspec": {
   "display_name": "conda_python3",
   "language": "python",
   "name": "conda_python3"
  },
  "language_info": {
   "codemirror_mode": {
    "name": "ipython",
    "version": 3
   },
   "file_extension": ".py",
   "mimetype": "text/x-python",
   "name": "python",
   "nbconvert_exporter": "python",
   "pygments_lexer": "ipython3",
   "version": "3.6.13"
  }
 },
 "nbformat": 4,
 "nbformat_minor": 5
}
