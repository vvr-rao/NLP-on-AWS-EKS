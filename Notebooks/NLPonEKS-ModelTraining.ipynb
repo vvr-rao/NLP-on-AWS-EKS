{
 "cells": [
  {
   "cell_type": "code",
   "execution_count": 35,
   "id": "d04dec02",
   "metadata": {},
   "outputs": [],
   "source": [
    "import pandas as pd\n",
    "import matplotlib.pyplot as plt\n",
    "from sklearn.model_selection import train_test_split\n",
    "from sklearn.feature_extraction.text import ENGLISH_STOP_WORDS\n",
    "from sklearn.feature_extraction.text import CountVectorizer\n",
    "from sklearn.feature_extraction.text import TfidfVectorizer\n",
    "from sklearn.svm import LinearSVC\n",
    "from sklearn.naive_bayes import MultinomialNB\n",
    "from sklearn import metrics\n",
    "from sklearn.pipeline import Pipeline\n",
    "import joblib"
   ]
  },
  {
   "cell_type": "code",
   "execution_count": 2,
   "id": "7e7f81a1",
   "metadata": {},
   "outputs": [
    {
     "data": {
      "text/html": [
       "<div>\n",
       "<style scoped>\n",
       "    .dataframe tbody tr th:only-of-type {\n",
       "        vertical-align: middle;\n",
       "    }\n",
       "\n",
       "    .dataframe tbody tr th {\n",
       "        vertical-align: top;\n",
       "    }\n",
       "\n",
       "    .dataframe thead th {\n",
       "        text-align: right;\n",
       "    }\n",
       "</style>\n",
       "<table border=\"1\" class=\"dataframe\">\n",
       "  <thead>\n",
       "    <tr style=\"text-align: right;\">\n",
       "      <th></th>\n",
       "      <th>PhraseId</th>\n",
       "      <th>SentenceId</th>\n",
       "      <th>Phrase</th>\n",
       "      <th>Sentiment</th>\n",
       "    </tr>\n",
       "  </thead>\n",
       "  <tbody>\n",
       "    <tr>\n",
       "      <th>0</th>\n",
       "      <td>1</td>\n",
       "      <td>1</td>\n",
       "      <td>A series of escapades demonstrating the adage ...</td>\n",
       "      <td>1</td>\n",
       "    </tr>\n",
       "    <tr>\n",
       "      <th>1</th>\n",
       "      <td>2</td>\n",
       "      <td>1</td>\n",
       "      <td>A series of escapades demonstrating the adage ...</td>\n",
       "      <td>2</td>\n",
       "    </tr>\n",
       "    <tr>\n",
       "      <th>2</th>\n",
       "      <td>3</td>\n",
       "      <td>1</td>\n",
       "      <td>A series</td>\n",
       "      <td>2</td>\n",
       "    </tr>\n",
       "    <tr>\n",
       "      <th>3</th>\n",
       "      <td>4</td>\n",
       "      <td>1</td>\n",
       "      <td>A</td>\n",
       "      <td>2</td>\n",
       "    </tr>\n",
       "    <tr>\n",
       "      <th>4</th>\n",
       "      <td>5</td>\n",
       "      <td>1</td>\n",
       "      <td>series</td>\n",
       "      <td>2</td>\n",
       "    </tr>\n",
       "  </tbody>\n",
       "</table>\n",
       "</div>"
      ],
      "text/plain": [
       "   PhraseId  SentenceId                                             Phrase  \\\n",
       "0         1           1  A series of escapades demonstrating the adage ...   \n",
       "1         2           1  A series of escapades demonstrating the adage ...   \n",
       "2         3           1                                           A series   \n",
       "3         4           1                                                  A   \n",
       "4         5           1                                             series   \n",
       "\n",
       "   Sentiment  \n",
       "0          1  \n",
       "1          2  \n",
       "2          2  \n",
       "3          2  \n",
       "4          2  "
      ]
     },
     "execution_count": 2,
     "metadata": {},
     "output_type": "execute_result"
    }
   ],
   "source": [
    "df = pd.read_csv('Movie_Sentiment_train.tsv', sep='\\t')\n",
    "df.head()"
   ]
  },
  {
   "cell_type": "code",
   "execution_count": 3,
   "id": "589cda3f",
   "metadata": {},
   "outputs": [
    {
     "data": {
      "text/plain": [
       "<AxesSubplot:xlabel='Sentiment'>"
      ]
     },
     "execution_count": 3,
     "metadata": {},
     "output_type": "execute_result"
    },
    {
     "data": {
      "image/png": "[encoded data removed]",
      "text/plain": [
       "<Figure size 432x288 with 1 Axes>"
      ]
     },
     "metadata": {
      "needs_background": "light"
     },
     "output_type": "display_data"
    }
   ],
   "source": [
    "df.groupby(\"Sentiment\").Sentiment.count().plot.bar(ylim=0)"
   ]
  },
  {
   "cell_type": "code",
   "execution_count": 4,
   "id": "9517ab9f",
   "metadata": {},
   "outputs": [],
   "source": [
    "df['Phrase'] = df['Phrase'].str.replace('\\d+', '') # remove digits\n",
    "df['Phrase'] = df['Phrase'].str.replace('[^\\w\\s]', '') # remove punctuation"
   ]
  },
  {
   "cell_type": "code",
   "execution_count": 5,
   "id": "7715ed7d",
   "metadata": {},
   "outputs": [],
   "source": [
    "X = df['Phrase'] \n",
    "y = df['Sentiment']\n",
    "X_train, X_test, y_train, y_test = train_test_split(X, y, test_size=0.33, random_state=42)"
   ]
  },
  {
   "cell_type": "code",
   "execution_count": 6,
   "id": "5ef720f3",
   "metadata": {},
   "outputs": [],
   "source": [
    "my_stop_words = ENGLISH_STOP_WORDS.union(['film', 'movie', 'cinema', 'theatre', 'hollywood'])"
   ]
  },
  {
   "cell_type": "markdown",
   "id": "761d1da6",
   "metadata": {},
   "source": [
    "**LinearSVC-CountVectoization**"
   ]
  },
  {
   "cell_type": "code",
   "execution_count": 7,
   "id": "2ea53805",
   "metadata": {},
   "outputs": [],
   "source": [
    "text_clf_svc = Pipeline([('vect', CountVectorizer(stop_words=my_stop_words, ngram_range=(1, 3))), ('clf', LinearSVC(max_iter=10000))])"
   ]
  },
  {
   "cell_type": "code",
   "execution_count": 8,
   "id": "a08c9030",
   "metadata": {},
   "outputs": [
    {
     "data": {
      "text/plain": [
       "Pipeline(steps=[('vect',\n",
       "                 CountVectorizer(ngram_range=(1, 3),\n",
       "                                 stop_words=frozenset({'a', 'about', 'above',\n",
       "                                                       'across', 'after',\n",
       "                                                       'afterwards', 'again',\n",
       "                                                       'against', 'all',\n",
       "                                                       'almost', 'alone',\n",
       "                                                       'along', 'already',\n",
       "                                                       'also', 'although',\n",
       "                                                       'always', 'am', 'among',\n",
       "                                                       'amongst', 'amoungst',\n",
       "                                                       'amount', 'an', 'and',\n",
       "                                                       'another', 'any',\n",
       "                                                       'anyhow', 'anyone',\n",
       "                                                       'anything', 'anyway',\n",
       "                                                       'anywhere', ...}))),\n",
       "                ('clf', LinearSVC(max_iter=10000))])"
      ]
     },
     "execution_count": 8,
     "metadata": {},
     "output_type": "execute_result"
    }
   ],
   "source": [
    "text_clf_svc.fit(X_train, y_train)"
   ]
  },
  {
   "cell_type": "code",
   "execution_count": 9,
   "id": "9cb30271",
   "metadata": {},
   "outputs": [],
   "source": [
    "predictions_svc = text_clf_svc.predict(X_test)"
   ]
  },
  {
   "cell_type": "code",
   "execution_count": 10,
   "id": "5a44c531",
   "metadata": {},
   "outputs": [
    {
     "name": "stdout",
     "output_type": "stream",
     "text": [
      "[[  908  1112   275    43     3]\n",
      " [  863  4296  3563   322    17]\n",
      " [  218  2227 20964  2443   146]\n",
      " [   21   248  4012  5501  1208]\n",
      " [    7    19   273  1493  1318]]\n"
     ]
    }
   ],
   "source": [
    "#print a Confusion Matrix\n",
    "print(metrics.confusion_matrix(y_test,predictions_svc))"
   ]
  },
  {
   "cell_type": "code",
   "execution_count": 11,
   "id": "87c9e403",
   "metadata": {},
   "outputs": [
    {
     "name": "stdout",
     "output_type": "stream",
     "text": [
      "              precision    recall  f1-score   support\n",
      "\n",
      "           0       0.45      0.39      0.42      2341\n",
      "           1       0.54      0.47      0.51      9061\n",
      "           2       0.72      0.81      0.76     25998\n",
      "           3       0.56      0.50      0.53     10990\n",
      "           4       0.49      0.42      0.45      3110\n",
      "\n",
      "    accuracy                           0.64     51500\n",
      "   macro avg       0.55      0.52      0.53     51500\n",
      "weighted avg       0.63      0.64      0.63     51500\n",
      "\n"
     ]
    }
   ],
   "source": [
    "# Print a classification report\n",
    "print(metrics.classification_report(y_test,predictions_svc))"
   ]
  },
  {
   "cell_type": "code",
   "execution_count": 12,
   "id": "6350b486",
   "metadata": {},
   "outputs": [
    {
     "name": "stdout",
     "output_type": "stream",
     "text": [
      "0.6405242718446602\n"
     ]
    }
   ],
   "source": [
    "# Print the overall accuracy\n",
    "print(metrics.accuracy_score(y_test,predictions_svc))"
   ]
  },
  {
   "cell_type": "markdown",
   "id": "be88a8e6",
   "metadata": {},
   "source": [
    "**Naive Bayes-CountVectoization**"
   ]
  },
  {
   "cell_type": "code",
   "execution_count": 13,
   "id": "543e406e",
   "metadata": {},
   "outputs": [],
   "source": [
    "text_clf_nb = Pipeline([('vect', CountVectorizer(stop_words=my_stop_words, ngram_range=(1, 3))), ('clf', MultinomialNB())])"
   ]
  },
  {
   "cell_type": "code",
   "execution_count": 14,
   "id": "d9aa9d9e",
   "metadata": {},
   "outputs": [
    {
     "data": {
      "text/plain": [
       "Pipeline(steps=[('vect',\n",
       "                 CountVectorizer(ngram_range=(1, 3),\n",
       "                                 stop_words=frozenset({'a', 'about', 'above',\n",
       "                                                       'across', 'after',\n",
       "                                                       'afterwards', 'again',\n",
       "                                                       'against', 'all',\n",
       "                                                       'almost', 'alone',\n",
       "                                                       'along', 'already',\n",
       "                                                       'also', 'although',\n",
       "                                                       'always', 'am', 'among',\n",
       "                                                       'amongst', 'amoungst',\n",
       "                                                       'amount', 'an', 'and',\n",
       "                                                       'another', 'any',\n",
       "                                                       'anyhow', 'anyone',\n",
       "                                                       'anything', 'anyway',\n",
       "                                                       'anywhere', ...}))),\n",
       "                ('clf', MultinomialNB())])"
      ]
     },
     "execution_count": 14,
     "metadata": {},
     "output_type": "execute_result"
    }
   ],
   "source": [
    "text_clf_nb.fit(X_train, y_train)"
   ]
  },
  {
   "cell_type": "code",
   "execution_count": 15,
   "id": "0c42cac2",
   "metadata": {},
   "outputs": [],
   "source": [
    "predictions_nb = text_clf_svc.predict(X_test)"
   ]
  },
  {
   "cell_type": "code",
   "execution_count": 16,
   "id": "4dea3611",
   "metadata": {},
   "outputs": [
    {
     "name": "stdout",
     "output_type": "stream",
     "text": [
      "[[  908  1112   275    43     3]\n",
      " [  863  4296  3563   322    17]\n",
      " [  218  2227 20964  2443   146]\n",
      " [   21   248  4012  5501  1208]\n",
      " [    7    19   273  1493  1318]]\n"
     ]
    }
   ],
   "source": [
    "#print a Confusion Matrix\n",
    "print(metrics.confusion_matrix(y_test,predictions_nb))"
   ]
  },
  {
   "cell_type": "code",
   "execution_count": 17,
   "id": "03e2177f",
   "metadata": {},
   "outputs": [
    {
     "name": "stdout",
     "output_type": "stream",
     "text": [
      "              precision    recall  f1-score   support\n",
      "\n",
      "           0       0.45      0.39      0.42      2341\n",
      "           1       0.54      0.47      0.51      9061\n",
      "           2       0.72      0.81      0.76     25998\n",
      "           3       0.56      0.50      0.53     10990\n",
      "           4       0.49      0.42      0.45      3110\n",
      "\n",
      "    accuracy                           0.64     51500\n",
      "   macro avg       0.55      0.52      0.53     51500\n",
      "weighted avg       0.63      0.64      0.63     51500\n",
      "\n"
     ]
    }
   ],
   "source": [
    "# Print a classification report\n",
    "print(metrics.classification_report(y_test,predictions_nb))"
   ]
  },
  {
   "cell_type": "code",
   "execution_count": 18,
   "id": "89aacc4d",
   "metadata": {},
   "outputs": [
    {
     "name": "stdout",
     "output_type": "stream",
     "text": [
      "0.6405242718446602\n"
     ]
    }
   ],
   "source": [
    "# Print the overall accuracy\n",
    "print(metrics.accuracy_score(y_test,predictions_nb))"
   ]
  },
  {
   "cell_type": "markdown",
   "id": "a49a4457",
   "metadata": {},
   "source": [
    "**LinearSVC-TFIDF**"
   ]
  },
  {
   "cell_type": "code",
   "execution_count": 19,
   "id": "ecc3f26b",
   "metadata": {},
   "outputs": [],
   "source": [
    "text_clf_svc_tf = Pipeline([('vect', TfidfVectorizer(stop_words=my_stop_words, ngram_range=(1, 3))), ('clf', LinearSVC(max_iter=10000))])"
   ]
  },
  {
   "cell_type": "code",
   "execution_count": 20,
   "id": "0a75df09",
   "metadata": {},
   "outputs": [
    {
     "data": {
      "text/plain": [
       "Pipeline(steps=[('vect',\n",
       "                 TfidfVectorizer(ngram_range=(1, 3),\n",
       "                                 stop_words=frozenset({'a', 'about', 'above',\n",
       "                                                       'across', 'after',\n",
       "                                                       'afterwards', 'again',\n",
       "                                                       'against', 'all',\n",
       "                                                       'almost', 'alone',\n",
       "                                                       'along', 'already',\n",
       "                                                       'also', 'although',\n",
       "                                                       'always', 'am', 'among',\n",
       "                                                       'amongst', 'amoungst',\n",
       "                                                       'amount', 'an', 'and',\n",
       "                                                       'another', 'any',\n",
       "                                                       'anyhow', 'anyone',\n",
       "                                                       'anything', 'anyway',\n",
       "                                                       'anywhere', ...}))),\n",
       "                ('clf', LinearSVC(max_iter=10000))])"
      ]
     },
     "execution_count": 20,
     "metadata": {},
     "output_type": "execute_result"
    }
   ],
   "source": [
    "text_clf_svc_tf.fit(X_train, y_train)"
   ]
  },
  {
   "cell_type": "code",
   "execution_count": 21,
   "id": "175bd839",
   "metadata": {},
   "outputs": [],
   "source": [
    "predictions_svc_tf = text_clf_svc_tf.predict(X_test)"
   ]
  },
  {
   "cell_type": "code",
   "execution_count": 22,
   "id": "d60d1175",
   "metadata": {},
   "outputs": [
    {
     "name": "stdout",
     "output_type": "stream",
     "text": [
      "[[  855  1148   301    34     3]\n",
      " [  753  4385  3611   298    14]\n",
      " [  184  2237 20937  2530   110]\n",
      " [   14   262  4067  5586  1061]\n",
      " [    5    19   299  1555  1232]]\n"
     ]
    }
   ],
   "source": [
    "#print a Confusion Matrix\n",
    "print(metrics.confusion_matrix(y_test,predictions_svc_tf))"
   ]
  },
  {
   "cell_type": "code",
   "execution_count": 23,
   "id": "773d269d",
   "metadata": {},
   "outputs": [
    {
     "name": "stdout",
     "output_type": "stream",
     "text": [
      "              precision    recall  f1-score   support\n",
      "\n",
      "           0       0.47      0.37      0.41      2341\n",
      "           1       0.54      0.48      0.51      9061\n",
      "           2       0.72      0.81      0.76     25998\n",
      "           3       0.56      0.51      0.53     10990\n",
      "           4       0.51      0.40      0.45      3110\n",
      "\n",
      "    accuracy                           0.64     51500\n",
      "   macro avg       0.56      0.51      0.53     51500\n",
      "weighted avg       0.63      0.64      0.63     51500\n",
      "\n"
     ]
    }
   ],
   "source": [
    "# Print a classification report\n",
    "print(metrics.classification_report(y_test,predictions_svc_tf))"
   ]
  },
  {
   "cell_type": "code",
   "execution_count": 24,
   "id": "2404e089",
   "metadata": {},
   "outputs": [
    {
     "name": "stdout",
     "output_type": "stream",
     "text": [
      "0.6406796116504855\n"
     ]
    }
   ],
   "source": [
    "# Print the overall accuracy\n",
    "print(metrics.accuracy_score(y_test,predictions_svc_tf))"
   ]
  },
  {
   "cell_type": "markdown",
   "id": "64a8afb8",
   "metadata": {},
   "source": [
    "**Naive Bayes-TFIDF**"
   ]
  },
  {
   "cell_type": "code",
   "execution_count": 25,
   "id": "f6e0a28a",
   "metadata": {},
   "outputs": [],
   "source": [
    "text_clf_nb_tf = Pipeline([('vect', TfidfVectorizer(stop_words=my_stop_words, ngram_range=(1, 3))), ('clf', MultinomialNB())])"
   ]
  },
  {
   "cell_type": "code",
   "execution_count": 26,
   "id": "3cfcb2e0",
   "metadata": {},
   "outputs": [
    {
     "data": {
      "text/plain": [
       "Pipeline(steps=[('vect',\n",
       "                 TfidfVectorizer(ngram_range=(1, 3),\n",
       "                                 stop_words=frozenset({'a', 'about', 'above',\n",
       "                                                       'across', 'after',\n",
       "                                                       'afterwards', 'again',\n",
       "                                                       'against', 'all',\n",
       "                                                       'almost', 'alone',\n",
       "                                                       'along', 'already',\n",
       "                                                       'also', 'although',\n",
       "                                                       'always', 'am', 'among',\n",
       "                                                       'amongst', 'amoungst',\n",
       "                                                       'amount', 'an', 'and',\n",
       "                                                       'another', 'any',\n",
       "                                                       'anyhow', 'anyone',\n",
       "                                                       'anything', 'anyway',\n",
       "                                                       'anywhere', ...}))),\n",
       "                ('clf', MultinomialNB())])"
      ]
     },
     "execution_count": 26,
     "metadata": {},
     "output_type": "execute_result"
    }
   ],
   "source": [
    "text_clf_nb_tf.fit(X_train, y_train)"
   ]
  },
  {
   "cell_type": "code",
   "execution_count": 27,
   "id": "dfc15e5a",
   "metadata": {},
   "outputs": [],
   "source": [
    "predictions_nb_tf = text_clf_nb_tf.predict(X_test)"
   ]
  },
  {
   "cell_type": "code",
   "execution_count": 28,
   "id": "fe70b28c",
   "metadata": {},
   "outputs": [
    {
     "name": "stdout",
     "output_type": "stream",
     "text": [
      "[[  125  1030  1162    24     0]\n",
      " [   37  2378  6475   171     0]\n",
      " [    4   811 23946  1226    11]\n",
      " [    0    94  6517  4305    74]\n",
      " [    0    12  1023  1808   267]]\n"
     ]
    }
   ],
   "source": [
    "#print a Confusion Matrix\n",
    "print(metrics.confusion_matrix(y_test,predictions_nb_tf))"
   ]
  },
  {
   "cell_type": "code",
   "execution_count": 29,
   "id": "14b60da4",
   "metadata": {},
   "outputs": [
    {
     "name": "stdout",
     "output_type": "stream",
     "text": [
      "              precision    recall  f1-score   support\n",
      "\n",
      "           0       0.75      0.05      0.10      2341\n",
      "           1       0.55      0.26      0.36      9061\n",
      "           2       0.61      0.92      0.74     25998\n",
      "           3       0.57      0.39      0.46     10990\n",
      "           4       0.76      0.09      0.15      3110\n",
      "\n",
      "    accuracy                           0.60     51500\n",
      "   macro avg       0.65      0.34      0.36     51500\n",
      "weighted avg       0.61      0.60      0.55     51500\n",
      "\n"
     ]
    }
   ],
   "source": [
    "# Print a classification report\n",
    "print(metrics.classification_report(y_test,predictions_nb_tf))"
   ]
  },
  {
   "cell_type": "code",
   "execution_count": 30,
   "id": "f2da44ba",
   "metadata": {},
   "outputs": [
    {
     "name": "stdout",
     "output_type": "stream",
     "text": [
      "0.6023495145631068\n"
     ]
    }
   ],
   "source": [
    "# Print the overall accuracy\n",
    "print(metrics.accuracy_score(y_test,predictions_nb_tf))"
   ]
  },
  {
   "cell_type": "markdown",
   "id": "f25057d6",
   "metadata": {},
   "source": [
    "**Saving and using model**"
   ]
  },
  {
   "cell_type": "markdown",
   "id": "ae8a3e1b",
   "metadata": {},
   "source": [
    "Note: The Naive Bayes model with TFIDF Vectorization shows a high Precision but poor recall. It also has lowest accuracy at 60%\n",
    "    Accuracy number were probably skewed by he large number of neutral Sentiment records in the Data set\n",
    "    \n",
    "The other models have an accuracy around 64%\n",
    "However, looking at the confusion matrix, it does look like there are not a lot of egregious misclassifications. (i.e. positives being marked as negative or vice versa). I'm not 100% happy with the model but not totally unhappy either\n",
    "    "
   ]
  },
  {
   "cell_type": "code",
   "execution_count": 36,
   "id": "676bcba7",
   "metadata": {},
   "outputs": [
    {
     "data": {
      "text/plain": [
       "['SVM_cv_model.pkl']"
      ]
     },
     "execution_count": 36,
     "metadata": {},
     "output_type": "execute_result"
    }
   ],
   "source": [
    "joblib.dump(text_clf_svc, 'SVM_cv_model.pkl')"
   ]
  },
  {
   "cell_type": "code",
   "execution_count": 37,
   "id": "325330f1",
   "metadata": {},
   "outputs": [],
   "source": [
    "model = open('SVM_cv_model.pkl','rb')"
   ]
  },
  {
   "cell_type": "code",
   "execution_count": 38,
   "id": "858bd8bc",
   "metadata": {},
   "outputs": [],
   "source": [
    "clf = joblib.load(model)"
   ]
  },
  {
   "cell_type": "code",
   "execution_count": 52,
   "id": "b0cc53f4",
   "metadata": {},
   "outputs": [],
   "source": [
    "cv = CountVectorizer()\n",
    "data = [\"plenty of funny quotes but ultimately fell flat\",\"why did Spielberg make this crap?\",\"restores your faith in the world\"]\n",
    "#vect = cv.transform(data).toarray()"
   ]
  },
  {
   "cell_type": "code",
   "execution_count": 57,
   "id": "ea7ef438",
   "metadata": {},
   "outputs": [
    {
     "name": "stdout",
     "output_type": "stream",
     "text": [
      "['plenty of funny quotes but ultimately fell flat', 'why did Spielberg make this crap?', 'restores your faith in the world']\n"
     ]
    }
   ],
   "source": [
    "new_data = []\n",
    "\n",
    "for string in data:\n",
    "    string1 = string.replace('\\d+', '') # remove digits\n",
    "    string1 = string1.replace('[^\\w\\s]', '') # remove punctuation\n",
    "    new_data.append(string1)\n",
    "\n",
    "print(new_data)"
   ]
  },
  {
   "cell_type": "code",
   "execution_count": 58,
   "id": "f08f737a",
   "metadata": {},
   "outputs": [],
   "source": [
    "my_prediction = clf.predict(data)"
   ]
  },
  {
   "cell_type": "code",
   "execution_count": 59,
   "id": "f0486f69",
   "metadata": {},
   "outputs": [
    {
     "name": "stdout",
     "output_type": "stream",
     "text": [
      "[1 0 2]\n"
     ]
    }
   ],
   "source": [
    "print(my_prediction)"
   ]
  },
  {
   "cell_type": "code",
   "execution_count": null,
   "id": "57b80f33",
   "metadata": {},
   "outputs": [],
   "source": []
  }
 ],
 "metadata": {
  "kernelspec": {
   "display_name": "conda_python3",
   "language": "python",
   "name": "conda_python3"
  },
  "language_info": {
   "codemirror_mode": {
    "name": "ipython",
    "version": 3
   },
   "file_extension": ".py",
   "mimetype": "text/x-python",
   "name": "python",
   "nbconvert_exporter": "python",
   "pygments_lexer": "ipython3",
   "version": "3.6.13"
  }
 },
 "nbformat": 4,
 "nbformat_minor": 5
}
